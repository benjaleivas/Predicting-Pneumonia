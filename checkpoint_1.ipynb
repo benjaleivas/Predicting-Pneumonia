{
 "cells": [
  {
   "attachments": {},
   "cell_type": "markdown",
   "metadata": {},
   "source": [
    "# Predicting pneumonia from X-ray image: Checkpoint #1\n",
    "\n",
    "Members: \n",
    "- Claire Boyd\n",
    "- Jack Gibson\n",
    "- Benjamin Leiva\n",
    "- Raul Castellanos"
   ]
  },
  {
   "cell_type": "code",
   "execution_count": null,
   "metadata": {},
   "outputs": [
    {
     "ename": "",
     "evalue": "",
     "output_type": "error",
     "traceback": [
      "\u001b[1;31mRunning cells with 'base' requires the ipykernel package.\n",
      "\u001b[1;31mRun the following command to install 'ipykernel' into the Python environment. \n",
      "\u001b[1;31mCommand: 'conda install -n base ipykernel --update-deps --force-reinstall'"
     ]
    }
   ],
   "source": [
    "# Import modules\n",
    "import pandas as pd\n",
    "from process import load"
   ]
  },
  {
   "attachments": {},
   "cell_type": "markdown",
   "metadata": {},
   "source": [
    "## Load and prepare data"
   ]
  },
  {
   "cell_type": "code",
   "execution_count": null,
   "metadata": {},
   "outputs": [
    {
     "ename": "",
     "evalue": "",
     "output_type": "error",
     "traceback": [
      "\u001b[1;31mRunning cells with 'base' requires the ipykernel package.\n",
      "\u001b[1;31mRun the following command to install 'ipykernel' into the Python environment. \n",
      "\u001b[1;31mCommand: 'conda install -n base ipykernel --update-deps --force-reinstall'"
     ]
    }
   ],
   "source": [
    "# Generate dataframes from csv files for descriptive statistics\n",
    "train = pd.read_csv('data/output/train.csv')\n",
    "test  = pd.read_csv('data/output/test.csv')\n",
    "val   = pd.read_csv('data/output/val.csv')\n",
    "\n",
    "types = ['train', 'test', 'val']\n",
    "dataframes = [train, test, val]\n",
    "\n",
    "train['type'] = 'train'\n",
    "test['type'] =  'test'\n",
    "val['type'] = 'val'\n",
    "\n",
    "train['size'] = train['height'] * train['width']\n",
    "test['size'] = test['height'] * test['width']\n",
    "val['size'] = val['height'] * val['width']\n",
    "\n",
    "#for df in dataframes:\n",
    "    # df['type'] = str(df)\n",
    "    # df['size'] = df['width'] * df['height'] \n",
    "\n",
    "#    collect_image_files(df)\n",
    "    # f'{df}' = pd.read_csv(f'data/output/{df}.csv')\n",
    "    # f'{df}'['type'] = f'{df}'\n",
    "    # f'{df}'['size'] = f'{df}'['width'] * f'{df}'['height']\n",
    "\n",
    "# Combine datasets\n",
    "data = pd.concat([train, test, val], ignore_index=True, axis=0)"
   ]
  },
  {
   "attachments": {},
   "cell_type": "markdown",
   "metadata": {},
   "source": [
    "## Descriptive statistics"
   ]
  },
  {
   "attachments": {},
   "cell_type": "markdown",
   "metadata": {},
   "source": [
    "### 1. Label count:"
   ]
  },
  {
   "cell_type": "code",
   "execution_count": null,
   "metadata": {},
   "outputs": [
    {
     "ename": "",
     "evalue": "",
     "output_type": "error",
     "traceback": [
      "\u001b[1;31mRunning cells with 'base' requires the ipykernel package.\n",
      "\u001b[1;31mRun the following command to install 'ipykernel' into the Python environment. \n",
      "\u001b[1;31mCommand: 'conda install -n base ipykernel --update-deps --force-reinstall'"
     ]
    }
   ],
   "source": [
    "data.groupby([\"type\", \"label\"])[\"type\"].count().reset_index(name=\"count\")"
   ]
  },
  {
   "attachments": {},
   "cell_type": "markdown",
   "metadata": {},
   "source": [
    "Looking at the table above we see that:\n",
    "- Training data has 2,682 normal labels (26%) and 7,750 pneumonia ones (74%).\n",
    "- Testing data has 468 normal x-ray labels (38%) and 780 pneumonia ones (62%).\n",
    "- Validation data has a 50-50 ratio between normal and pneumonia labels. "
   ]
  },
  {
   "attachments": {},
   "cell_type": "markdown",
   "metadata": {},
   "source": [
    "### 2. Height and width count"
   ]
  },
  {
   "cell_type": "code",
   "execution_count": null,
   "metadata": {},
   "outputs": [
    {
     "ename": "",
     "evalue": "",
     "output_type": "error",
     "traceback": [
      "\u001b[1;31mRunning cells with 'base' requires the ipykernel package.\n",
      "\u001b[1;31mRun the following command to install 'ipykernel' into the Python environment. \n",
      "\u001b[1;31mCommand: 'conda install -n base ipykernel --update-deps --force-reinstall'"
     ]
    }
   ],
   "source": [
    "# Height count\n",
    "train['height_bracket'] = 'More than 2000 pixels'\n",
    "train.loc[(train.loc[:, 'height'] < 2000) & (train.loc[:, 'height'] >= 1500), 'height_bracket'] = 'Between 1500-2000 pixels'\n",
    "train.loc[(train.loc[:, 'height'] < 1500) & (train.loc[:, 'height'] >= 1000), 'height_bracket'] = 'Between 1000-1500 pixels'\n",
    "train.loc[(train.loc[:, 'height'] < 1000) & (train.loc[:, 'height'] >= 500), 'height_bracket'] = 'Between 500-1000 pixels'\n",
    "train.loc[(train.loc[:, 'height'] < 500), 'height_bracket'] = 'Less than 500 pixels'\n",
    "\n",
    "train.groupby([\"type\", \"height_bracket\"])[\"type\"].count().reset_index(name=\"count\").sort_values('count', ascending=False)"
   ]
  },
  {
   "cell_type": "code",
   "execution_count": null,
   "metadata": {},
   "outputs": [
    {
     "ename": "",
     "evalue": "",
     "output_type": "error",
     "traceback": [
      "\u001b[1;31mRunning cells with 'base' requires the ipykernel package.\n",
      "\u001b[1;31mRun the following command to install 'ipykernel' into the Python environment. \n",
      "\u001b[1;31mCommand: 'conda install -n base ipykernel --update-deps --force-reinstall'"
     ]
    }
   ],
   "source": [
    "# Width count\n",
    "train['width_bracket'] = 'More than 2000 pixels'\n",
    "train.loc[(train.loc[:, 'width'] < 2000) & (train.loc[:, 'width'] >= 1500), 'width_bracket'] = 'Between 1500-2000 pixels'\n",
    "train.loc[(train.loc[:, 'width'] < 1500) & (train.loc[:, 'width'] >= 1000), 'width_bracket'] = 'Between 1000-1500 pixels'\n",
    "train.loc[(train.loc[:, 'width'] < 1000) & (train.loc[:, 'width'] >= 500), 'width_bracket'] = 'Between 500-1000 pixels'\n",
    "train.loc[(train.loc[:, 'width'] < 500), 'width_bracket'] = 'Less than 500 pixels'\n",
    "\n",
    "train.groupby([\"type\", \"width_bracket\"])[\"type\"].count().reset_index(name=\"count\").sort_values('count', ascending=False)"
   ]
  },
  {
   "cell_type": "code",
   "execution_count": null,
   "metadata": {},
   "outputs": [
    {
     "ename": "",
     "evalue": "",
     "output_type": "error",
     "traceback": [
      "\u001b[1;31mRunning cells with 'base' requires the ipykernel package.\n",
      "\u001b[1;31mRun the following command to install 'ipykernel' into the Python environment. \n",
      "\u001b[1;31mCommand: 'conda install -n base ipykernel --update-deps --force-reinstall'"
     ]
    }
   ],
   "source": [
    "# Size descriptive statistics\n",
    "# data[['height', 'width', 'size']].describe()\n",
    "train['size'].describe().apply(\"{0:.0f}\".format)"
   ]
  },
  {
   "cell_type": "markdown",
   "metadata": {},
   "source": []
  },
  {
   "attachments": {},
   "cell_type": "markdown",
   "metadata": {},
   "source": [
    "## Data pre-processing"
   ]
  },
  {
   "attachments": {},
   "cell_type": "markdown",
   "metadata": {},
   "source": [
    "We decided on two transformations for our training data: CenterCrop and Resize.\n",
    "\n",
    "The reason for choosing CenterCrop is that removing the borders of x-rays leaves us with the part of the image that gives us information about the presence of pneumonia. This way, we prevent our model from analyzing pixels from, for example, the shoulders or arms regions, and focus on the chest and lungs. Then, we use Resize on the resulting images in order to have homogeneous image sizes in our training data.\n",
    "\n",
    "Since both of these transformations need height and width parameters to work, we use their observed means in the training data.\n",
    "\n"
   ]
  },
  {
   "cell_type": "code",
   "execution_count": null,
   "metadata": {},
   "outputs": [
    {
     "ename": "",
     "evalue": "",
     "output_type": "error",
     "traceback": [
      "\u001b[1;31mRunning cells with 'base' requires the ipykernel package.\n",
      "\u001b[1;31mRun the following command to install 'ipykernel' into the Python environment. \n",
      "\u001b[1;31mCommand: 'conda install -n base ipykernel --update-deps --force-reinstall'"
     ]
    }
   ],
   "source": [
    "# Height mean\n",
    "height_mean = train['height'].mean()\n",
    "print(height_mean)\n",
    "\n",
    "# Width mean\n",
    "width_mean = train['width'].mean()\n",
    "print(width_mean)"
   ]
  }
 ],
 "metadata": {
  "kernelspec": {
   "display_name": "Python 3.10.8 64-bit",
   "language": "python",
   "name": "python3"
  },
  "language_info": {
   "codemirror_mode": {
    "name": "ipython",
    "version": 3
   },
   "file_extension": ".py",
   "mimetype": "text/x-python",
   "name": "python",
   "nbconvert_exporter": "python",
   "pygments_lexer": "ipython3",
   "version": "3.10.4"
  },
  "orig_nbformat": 4,
  "vscode": {
   "interpreter": {
    "hash": "aee8b7b246df8f9039afb4144a1f6fd8d2ca17a180786b69acc140d282b71a49"
   }
  }
 },
 "nbformat": 4,
 "nbformat_minor": 2
}
