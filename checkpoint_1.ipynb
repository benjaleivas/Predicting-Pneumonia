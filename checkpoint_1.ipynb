{
 "cells": [
  {
   "attachments": {},
   "cell_type": "markdown",
   "metadata": {},
   "source": [
    "# Predicting pneumonia from X-ray image: Checkpoint #1\n",
    "\n",
    "Members: \n",
    "- Claire Boyd\n",
    "- Jack Gibson\n",
    "- Benjamin Leiva\n",
    "- Raul Castellanos"
   ]
  },
  {
   "cell_type": "code",
   "execution_count": 217,
   "metadata": {},
   "outputs": [],
   "source": [
    "# Import modules\n",
    "import pandas as pd\n",
    "import numpy as np\n",
    "import matplotlib.pyplot as plt\n"
   ]
  },
  {
   "attachments": {},
   "cell_type": "markdown",
   "metadata": {},
   "source": [
    "## Load and prepare data\n",
    "\n",
    "In this section we'll load the csv files we created using the 'collect_image_files()' function of the load module, and create the necessary variables for analyzing the dataset."
   ]
  },
  {
   "cell_type": "code",
   "execution_count": 218,
   "metadata": {},
   "outputs": [
    {
     "data": {
      "text/html": [
       "<div>\n",
       "<style scoped>\n",
       "    .dataframe tbody tr th:only-of-type {\n",
       "        vertical-align: middle;\n",
       "    }\n",
       "\n",
       "    .dataframe tbody tr th {\n",
       "        vertical-align: top;\n",
       "    }\n",
       "\n",
       "    .dataframe thead th {\n",
       "        text-align: right;\n",
       "    }\n",
       "</style>\n",
       "<table border=\"1\" class=\"dataframe\">\n",
       "  <thead>\n",
       "    <tr style=\"text-align: right;\">\n",
       "      <th></th>\n",
       "      <th>type</th>\n",
       "      <th>path</th>\n",
       "      <th>channel</th>\n",
       "      <th>height</th>\n",
       "      <th>width</th>\n",
       "      <th>size</th>\n",
       "      <th>label</th>\n",
       "    </tr>\n",
       "  </thead>\n",
       "  <tbody>\n",
       "    <tr>\n",
       "      <th>0</th>\n",
       "      <td>train</td>\n",
       "      <td>NORMAL/NORMAL2-IM-0927-0001.jpeg</td>\n",
       "      <td>1</td>\n",
       "      <td>2234</td>\n",
       "      <td>2359</td>\n",
       "      <td>5270006</td>\n",
       "      <td>NORMAL</td>\n",
       "    </tr>\n",
       "    <tr>\n",
       "      <th>1</th>\n",
       "      <td>train</td>\n",
       "      <td>NORMAL/NORMAL2-IM-1056-0001.jpeg</td>\n",
       "      <td>1</td>\n",
       "      <td>1067</td>\n",
       "      <td>1422</td>\n",
       "      <td>1517274</td>\n",
       "      <td>NORMAL</td>\n",
       "    </tr>\n",
       "    <tr>\n",
       "      <th>2</th>\n",
       "      <td>train</td>\n",
       "      <td>NORMAL/IM-0427-0001.jpeg</td>\n",
       "      <td>1</td>\n",
       "      <td>1357</td>\n",
       "      <td>1828</td>\n",
       "      <td>2480596</td>\n",
       "      <td>NORMAL</td>\n",
       "    </tr>\n",
       "    <tr>\n",
       "      <th>3</th>\n",
       "      <td>train</td>\n",
       "      <td>NORMAL/NORMAL2-IM-1260-0001.jpeg</td>\n",
       "      <td>1</td>\n",
       "      <td>1495</td>\n",
       "      <td>1854</td>\n",
       "      <td>2771730</td>\n",
       "      <td>NORMAL</td>\n",
       "    </tr>\n",
       "    <tr>\n",
       "      <th>4</th>\n",
       "      <td>train</td>\n",
       "      <td>NORMAL/IM-0656-0001-0001.jpeg</td>\n",
       "      <td>1</td>\n",
       "      <td>1966</td>\n",
       "      <td>2194</td>\n",
       "      <td>4313404</td>\n",
       "      <td>NORMAL</td>\n",
       "    </tr>\n",
       "  </tbody>\n",
       "</table>\n",
       "</div>"
      ],
      "text/plain": [
       "    type                              path  channel  height  width    size  \\\n",
       "0  train  NORMAL/NORMAL2-IM-0927-0001.jpeg        1    2234   2359 5270006   \n",
       "1  train  NORMAL/NORMAL2-IM-1056-0001.jpeg        1    1067   1422 1517274   \n",
       "2  train          NORMAL/IM-0427-0001.jpeg        1    1357   1828 2480596   \n",
       "3  train  NORMAL/NORMAL2-IM-1260-0001.jpeg        1    1495   1854 2771730   \n",
       "4  train     NORMAL/IM-0656-0001-0001.jpeg        1    1966   2194 4313404   \n",
       "\n",
       "    label  \n",
       "0  NORMAL  \n",
       "1  NORMAL  \n",
       "2  NORMAL  \n",
       "3  NORMAL  \n",
       "4  NORMAL  "
      ]
     },
     "execution_count": 218,
     "metadata": {},
     "output_type": "execute_result"
    }
   ],
   "source": [
    "# Load csv files\n",
    "train = pd.read_csv('data/output/train.csv', usecols=['path', 'channel', 'height', 'width', 'label'])\n",
    "test  = pd.read_csv('data/output/test.csv', usecols=['path', 'channel', 'height', 'width', 'label'])\n",
    "val   = pd.read_csv('data/output/val.csv', usecols=['path', 'channel', 'height', 'width', 'label'])\n",
    "\n",
    "# Create 'type' variable\n",
    "train['type'] = 'train'\n",
    "test['type'] =  'test'\n",
    "val['type'] = 'val'\n",
    "\n",
    "# Create 'size' variable\n",
    "train['size'] = train['height'] * train['width']\n",
    "test['size'] = test['height'] * test['width']\n",
    "val['size'] = val['height'] * val['width']\n",
    "\n",
    "# Combine datasets\n",
    "data = pd.concat([train, test, val], ignore_index=True, axis=0)\n",
    "data = data[['type', 'path', 'channel', 'height', 'width', 'size', 'label']]\n",
    "\n",
    "# Combined dataset preview\n",
    "data.head()"
   ]
  },
  {
   "attachments": {},
   "cell_type": "markdown",
   "metadata": {},
   "source": [
    "The output from above shows the structure of our data, where each row contains information of an x-ray image. The 'path' column contains the location of the image in the corresponding data type directory (i.e., train, test or val). The 'channel' column describes how many scales of colors our images have. Since all images are x-rays in black and white, all observartions have only 1 channel. The 'height', 'width' and 'size' (height * width) columns contain shape information about the image. Finally, 'label' says if the x-ray is from a healthy person (NORAML) or if its from a person with pneumonia (PNEUMONIA).  "
   ]
  },
  {
   "attachments": {},
   "cell_type": "markdown",
   "metadata": {},
   "source": [
    "## Descriptive statistics"
   ]
  },
  {
   "attachments": {},
   "cell_type": "markdown",
   "metadata": {},
   "source": [
    "### 1. Label count:"
   ]
  },
  {
   "cell_type": "code",
   "execution_count": 219,
   "metadata": {},
   "outputs": [
    {
     "data": {
      "text/html": [
       "<div>\n",
       "<style scoped>\n",
       "    .dataframe tbody tr th:only-of-type {\n",
       "        vertical-align: middle;\n",
       "    }\n",
       "\n",
       "    .dataframe tbody tr th {\n",
       "        vertical-align: top;\n",
       "    }\n",
       "\n",
       "    .dataframe thead th {\n",
       "        text-align: right;\n",
       "    }\n",
       "</style>\n",
       "<table border=\"1\" class=\"dataframe\">\n",
       "  <thead>\n",
       "    <tr style=\"text-align: right;\">\n",
       "      <th></th>\n",
       "      <th>type</th>\n",
       "      <th>label</th>\n",
       "      <th>count</th>\n",
       "    </tr>\n",
       "  </thead>\n",
       "  <tbody>\n",
       "    <tr>\n",
       "      <th>0</th>\n",
       "      <td>test</td>\n",
       "      <td>NORMAL</td>\n",
       "      <td>468</td>\n",
       "    </tr>\n",
       "    <tr>\n",
       "      <th>1</th>\n",
       "      <td>test</td>\n",
       "      <td>PNEUMONIA</td>\n",
       "      <td>780</td>\n",
       "    </tr>\n",
       "    <tr>\n",
       "      <th>2</th>\n",
       "      <td>train</td>\n",
       "      <td>NORMAL</td>\n",
       "      <td>2682</td>\n",
       "    </tr>\n",
       "    <tr>\n",
       "      <th>3</th>\n",
       "      <td>train</td>\n",
       "      <td>PNEUMONIA</td>\n",
       "      <td>7750</td>\n",
       "    </tr>\n",
       "    <tr>\n",
       "      <th>4</th>\n",
       "      <td>val</td>\n",
       "      <td>NORMAL</td>\n",
       "      <td>8</td>\n",
       "    </tr>\n",
       "    <tr>\n",
       "      <th>5</th>\n",
       "      <td>val</td>\n",
       "      <td>PNEUMONIA</td>\n",
       "      <td>8</td>\n",
       "    </tr>\n",
       "  </tbody>\n",
       "</table>\n",
       "</div>"
      ],
      "text/plain": [
       "    type      label  count\n",
       "0   test     NORMAL    468\n",
       "1   test  PNEUMONIA    780\n",
       "2  train     NORMAL   2682\n",
       "3  train  PNEUMONIA   7750\n",
       "4    val     NORMAL      8\n",
       "5    val  PNEUMONIA      8"
      ]
     },
     "execution_count": 219,
     "metadata": {},
     "output_type": "execute_result"
    }
   ],
   "source": [
    "data.groupby([\"type\", \"label\"])[\"type\"].count().reset_index(name=\"count\")"
   ]
  },
  {
   "attachments": {},
   "cell_type": "markdown",
   "metadata": {},
   "source": [
    "Looking at the table above we see that:\n",
    "- Training data has 2,682 normal labels (26%) and 7,750 pneumonia ones (74%).\n",
    "- Testing data has 468 normal x-ray labels (38%) and 780 pneumonia ones (62%).\n",
    "- Validation data has a 50-50 ratio between normal and pneumonia labels. "
   ]
  },
  {
   "attachments": {},
   "cell_type": "markdown",
   "metadata": {},
   "source": [
    "### 2. Height, width and size count\n",
    "\n",
    "From now on we will focus on creating descriptive statistics for the training data, starting with the height, width and size of our x-ray images in the training data."
   ]
  },
  {
   "cell_type": "code",
   "execution_count": 220,
   "metadata": {},
   "outputs": [
    {
     "data": {
      "text/html": [
       "<div>\n",
       "<style scoped>\n",
       "    .dataframe tbody tr th:only-of-type {\n",
       "        vertical-align: middle;\n",
       "    }\n",
       "\n",
       "    .dataframe tbody tr th {\n",
       "        vertical-align: top;\n",
       "    }\n",
       "\n",
       "    .dataframe thead th {\n",
       "        text-align: right;\n",
       "    }\n",
       "</style>\n",
       "<table border=\"1\" class=\"dataframe\">\n",
       "  <thead>\n",
       "    <tr style=\"text-align: right;\">\n",
       "      <th></th>\n",
       "      <th>height</th>\n",
       "      <th>width</th>\n",
       "      <th>size</th>\n",
       "    </tr>\n",
       "  </thead>\n",
       "  <tbody>\n",
       "    <tr>\n",
       "      <th>count</th>\n",
       "      <td>10432</td>\n",
       "      <td>10432</td>\n",
       "      <td>10432</td>\n",
       "    </tr>\n",
       "    <tr>\n",
       "      <th>mean</th>\n",
       "      <td>968</td>\n",
       "      <td>1321</td>\n",
       "      <td>1403850</td>\n",
       "    </tr>\n",
       "    <tr>\n",
       "      <th>std</th>\n",
       "      <td>379</td>\n",
       "      <td>355</td>\n",
       "      <td>939101</td>\n",
       "    </tr>\n",
       "    <tr>\n",
       "      <th>min</th>\n",
       "      <td>127</td>\n",
       "      <td>384</td>\n",
       "      <td>48768</td>\n",
       "    </tr>\n",
       "    <tr>\n",
       "      <th>10%</th>\n",
       "      <td>568</td>\n",
       "      <td>920</td>\n",
       "      <td>531706</td>\n",
       "    </tr>\n",
       "    <tr>\n",
       "      <th>25%</th>\n",
       "      <td>688</td>\n",
       "      <td>1056</td>\n",
       "      <td>727888</td>\n",
       "    </tr>\n",
       "    <tr>\n",
       "      <th>50%</th>\n",
       "      <td>888</td>\n",
       "      <td>1284</td>\n",
       "      <td>1140640</td>\n",
       "    </tr>\n",
       "    <tr>\n",
       "      <th>75%</th>\n",
       "      <td>1188</td>\n",
       "      <td>1552</td>\n",
       "      <td>1841504</td>\n",
       "    </tr>\n",
       "    <tr>\n",
       "      <th>90%</th>\n",
       "      <td>1480</td>\n",
       "      <td>1792</td>\n",
       "      <td>2617809</td>\n",
       "    </tr>\n",
       "    <tr>\n",
       "      <th>max</th>\n",
       "      <td>2663</td>\n",
       "      <td>2916</td>\n",
       "      <td>7532028</td>\n",
       "    </tr>\n",
       "  </tbody>\n",
       "</table>\n",
       "</div>"
      ],
      "text/plain": [
       "       height  width    size\n",
       "count   10432  10432   10432\n",
       "mean      968   1321 1403850\n",
       "std       379    355  939101\n",
       "min       127    384   48768\n",
       "10%       568    920  531706\n",
       "25%       688   1056  727888\n",
       "50%       888   1284 1140640\n",
       "75%      1188   1552 1841504\n",
       "90%      1480   1792 2617809\n",
       "max      2663   2916 7532028"
      ]
     },
     "execution_count": 220,
     "metadata": {},
     "output_type": "execute_result"
    }
   ],
   "source": [
    "# Table with descriptive statistics\n",
    "pd.set_option('display.float_format', lambda x: '%.0f' % x)\n",
    "train[[\"height\",\"width\", \"size\"]].describe(percentiles=[0.1, .25, 0.5, 0.75, 0.9])\n"
   ]
  },
  {
   "cell_type": "code",
   "execution_count": 221,
   "metadata": {},
   "outputs": [
    {
     "data": {
      "text/html": [
       "<div>\n",
       "<style scoped>\n",
       "    .dataframe tbody tr th:only-of-type {\n",
       "        vertical-align: middle;\n",
       "    }\n",
       "\n",
       "    .dataframe tbody tr th {\n",
       "        vertical-align: top;\n",
       "    }\n",
       "\n",
       "    .dataframe thead th {\n",
       "        text-align: right;\n",
       "    }\n",
       "</style>\n",
       "<table border=\"1\" class=\"dataframe\">\n",
       "  <thead>\n",
       "    <tr style=\"text-align: right;\">\n",
       "      <th></th>\n",
       "      <th>type</th>\n",
       "      <th>height_bracket</th>\n",
       "      <th>count</th>\n",
       "    </tr>\n",
       "  </thead>\n",
       "  <tbody>\n",
       "    <tr>\n",
       "      <th>2</th>\n",
       "      <td>train</td>\n",
       "      <td>Between 500-1000 pixels</td>\n",
       "      <td>5694</td>\n",
       "    </tr>\n",
       "    <tr>\n",
       "      <th>0</th>\n",
       "      <td>train</td>\n",
       "      <td>Between 1000-1500 pixels</td>\n",
       "      <td>3302</td>\n",
       "    </tr>\n",
       "    <tr>\n",
       "      <th>1</th>\n",
       "      <td>train</td>\n",
       "      <td>Between 1500-2000 pixels</td>\n",
       "      <td>802</td>\n",
       "    </tr>\n",
       "    <tr>\n",
       "      <th>3</th>\n",
       "      <td>train</td>\n",
       "      <td>Less than 500 pixels</td>\n",
       "      <td>488</td>\n",
       "    </tr>\n",
       "    <tr>\n",
       "      <th>4</th>\n",
       "      <td>train</td>\n",
       "      <td>More than 2000 pixels</td>\n",
       "      <td>147</td>\n",
       "    </tr>\n",
       "  </tbody>\n",
       "</table>\n",
       "</div>"
      ],
      "text/plain": [
       "    type            height_bracket  count\n",
       "2  train   Between 500-1000 pixels   5694\n",
       "0  train  Between 1000-1500 pixels   3302\n",
       "1  train  Between 1500-2000 pixels    802\n",
       "3  train      Less than 500 pixels    488\n",
       "4  train     More than 2000 pixels    147"
      ]
     },
     "execution_count": 221,
     "metadata": {},
     "output_type": "execute_result"
    }
   ],
   "source": [
    "# Height count by bracket\n",
    "train['height_bracket'] = 'More than 2000 pixels'\n",
    "train.loc[(train.loc[:, 'height'] < 2000) & (train.loc[:, 'height'] >= 1500), 'height_bracket'] = 'Between 1500-2000 pixels'\n",
    "train.loc[(train.loc[:, 'height'] < 1500) & (train.loc[:, 'height'] >= 1000), 'height_bracket'] = 'Between 1000-1500 pixels'\n",
    "train.loc[(train.loc[:, 'height'] < 1000) & (train.loc[:, 'height'] >= 500), 'height_bracket'] = 'Between 500-1000 pixels'\n",
    "train.loc[(train.loc[:, 'height'] < 500), 'height_bracket'] = 'Less than 500 pixels'\n",
    "\n",
    "train.groupby([\"type\", \"height_bracket\"])[\"type\"].count().reset_index(name=\"count\").sort_values('count', ascending=False)"
   ]
  },
  {
   "cell_type": "code",
   "execution_count": 222,
   "metadata": {},
   "outputs": [
    {
     "data": {
      "text/html": [
       "<div>\n",
       "<style scoped>\n",
       "    .dataframe tbody tr th:only-of-type {\n",
       "        vertical-align: middle;\n",
       "    }\n",
       "\n",
       "    .dataframe tbody tr th {\n",
       "        vertical-align: top;\n",
       "    }\n",
       "\n",
       "    .dataframe thead th {\n",
       "        text-align: right;\n",
       "    }\n",
       "</style>\n",
       "<table border=\"1\" class=\"dataframe\">\n",
       "  <thead>\n",
       "    <tr style=\"text-align: right;\">\n",
       "      <th></th>\n",
       "      <th>type</th>\n",
       "      <th>width_bracket</th>\n",
       "      <th>count</th>\n",
       "    </tr>\n",
       "  </thead>\n",
       "  <tbody>\n",
       "    <tr>\n",
       "      <th>0</th>\n",
       "      <td>train</td>\n",
       "      <td>Between 1000-1500 pixels</td>\n",
       "      <td>5494</td>\n",
       "    </tr>\n",
       "    <tr>\n",
       "      <th>1</th>\n",
       "      <td>train</td>\n",
       "      <td>Between 1500-2000 pixels</td>\n",
       "      <td>2698</td>\n",
       "    </tr>\n",
       "    <tr>\n",
       "      <th>2</th>\n",
       "      <td>train</td>\n",
       "      <td>Between 500-1000 pixels</td>\n",
       "      <td>1752</td>\n",
       "    </tr>\n",
       "    <tr>\n",
       "      <th>4</th>\n",
       "      <td>train</td>\n",
       "      <td>More than 2000 pixels</td>\n",
       "      <td>383</td>\n",
       "    </tr>\n",
       "    <tr>\n",
       "      <th>3</th>\n",
       "      <td>train</td>\n",
       "      <td>Less than 500 pixels</td>\n",
       "      <td>106</td>\n",
       "    </tr>\n",
       "  </tbody>\n",
       "</table>\n",
       "</div>"
      ],
      "text/plain": [
       "    type             width_bracket  count\n",
       "0  train  Between 1000-1500 pixels   5494\n",
       "1  train  Between 1500-2000 pixels   2698\n",
       "2  train   Between 500-1000 pixels   1752\n",
       "4  train     More than 2000 pixels    383\n",
       "3  train      Less than 500 pixels    106"
      ]
     },
     "execution_count": 222,
     "metadata": {},
     "output_type": "execute_result"
    }
   ],
   "source": [
    "# Width count by bracket\n",
    "train['width_bracket'] = 'More than 2000 pixels'\n",
    "train.loc[(train.loc[:, 'width'] < 2000) & (train.loc[:, 'width'] >= 1500), 'width_bracket'] = 'Between 1500-2000 pixels'\n",
    "train.loc[(train.loc[:, 'width'] < 1500) & (train.loc[:, 'width'] >= 1000), 'width_bracket'] = 'Between 1000-1500 pixels'\n",
    "train.loc[(train.loc[:, 'width'] < 1000) & (train.loc[:, 'width'] >= 500), 'width_bracket'] = 'Between 500-1000 pixels'\n",
    "train.loc[(train.loc[:, 'width'] < 500), 'width_bracket'] = 'Less than 500 pixels'\n",
    "\n",
    "train.groupby([\"type\", \"width_bracket\"])[\"type\"].count().reset_index(name=\"count\").sort_values('count', ascending=False)"
   ]
  },
  {
   "attachments": {},
   "cell_type": "markdown",
   "metadata": {},
   "source": []
  },
  {
   "attachments": {},
   "cell_type": "markdown",
   "metadata": {},
   "source": [
    "## Data pre-processing\n",
    "\n",
    "In order to decide how to transform and/normalize our data, we first did a brief exploratory analysis on the size of our training data. We created two histograms to help us get a sense of the spread of the height and width of our normal and pneumonia chest x-ray images."
   ]
  },
  {
   "cell_type": "code",
   "execution_count": 223,
   "metadata": {},
   "outputs": [
    {
     "name": "stdout",
     "output_type": "stream",
     "text": [
      "Mean of height: 968\n",
      "Starndard deviation of height: 378\n"
     ]
    }
   ],
   "source": [
    "# Height mean\n",
    "height_mean = train['height'].mean()\n",
    "height_sd = train['height'].std()\n",
    "print('Mean of height:', int(height_mean))\n",
    "print('Starndard deviation of height:', int(height_sd))"
   ]
  },
  {
   "attachments": {},
   "cell_type": "markdown",
   "metadata": {},
   "source": [
    "In terms of height, we found that the mean height was 968 and the standard deviation of image height was 378."
   ]
  },
  {
   "cell_type": "code",
   "execution_count": 224,
   "metadata": {},
   "outputs": [
    {
     "data": {
      "image/png": "[encoded data removed]",
      "text/plain": [
       "<Figure size 432x288 with 1 Axes>"
      ]
     },
     "metadata": {
      "needs_background": "light"
     },
     "output_type": "display_data"
    }
   ],
   "source": [
    "# Distribution of height\n",
    "height = train.loc[:, 'height']\n",
    "plt.hist(height, bins=100, color='lightblue')\n",
    "plt.axvline(height_mean, color='red', linestyle='dashed', linewidth=1)\n",
    "plt.text(height_mean, plt.ylim()[1]*0.9, 'mean', color='red', fontsize=12, ha='center')\n",
    "plt.title('Figure 2: Distribution of Height')\n",
    "plt.xlabel('Height')\n",
    "plt.ylabel('Frequency')\n",
    "plt.show()"
   ]
  },
  {
   "cell_type": "code",
   "execution_count": 225,
   "metadata": {},
   "outputs": [
    {
     "name": "stdout",
     "output_type": "stream",
     "text": [
      "Mean of width: 1320\n",
      "Starndard deviation of width: 355\n"
     ]
    }
   ],
   "source": [
    "# Width mean\n",
    "width_mean = train['width'].mean()\n",
    "width_sd = train['width'].std()\n",
    "print('Mean of width:', int(width_mean))\n",
    "print('Starndard deviation of width:', int(width_sd))"
   ]
  },
  {
   "attachments": {},
   "cell_type": "markdown",
   "metadata": {},
   "source": [
    "Similarly, the mean width was 1320 and the standard deviation of the image width was 355."
   ]
  },
  {
   "cell_type": "code",
   "execution_count": 226,
   "metadata": {},
   "outputs": [
    {
     "data": {
      "image/png": "[encoded data removed]",
      "text/plain": [
       "<Figure size 432x288 with 1 Axes>"
      ]
     },
     "metadata": {
      "needs_background": "light"
     },
     "output_type": "display_data"
    }
   ],
   "source": [
    "width = train.loc[:, 'width']\n",
    "plt.hist(width, bins=100, color='lightblue')\n",
    "plt.axvline(width_mean, color='red', linestyle='dashed', linewidth=1)\n",
    "plt.text(width_mean, plt.ylim()[1]*0.9, 'mean', color='red', fontsize=12, ha='center')\n",
    "plt.title('Figure 2: Distribution of Width')\n",
    "plt.xlabel('Width')\n",
    "plt.ylabel('Frequency')\n",
    "plt.show()"
   ]
  },
  {
   "attachments": {},
   "cell_type": "markdown",
   "metadata": {},
   "source": [
    "Given that we are trying to classify pneumonia images, resolution really does matter for the accuracy of our prediction. Though we are still in the early stages of thinking through how our machine learning model would work, our sense is that the model will largely need to be trained on the amount of lighter gray pixels as opposed to white/black contrast. At this stage, we don’t want to overly simplify our images and lose some of the granularity of what we give our model.\n",
    "\n",
    "However, we also read here(link: https://medium.com/neuronio/how-to-deal-with-image-resizing-in-deep-learning-e5177fad7d89) that there are efficiency benefits to reducing image size without jeopardizing model accuracy.\n",
    "\n",
    "Given these conflicting constraints, we thought it made the most sense to transform our image data to the mean pixels in both height and width. But because we didn’t want to lose the image granularity for the images that were larger in pixels than the averages, so we decided to transform our data to the mean height/width in two steps: first we used CenterCrop and then we used Resize.\n",
    "\n",
    "The reason for choosing to transform the data using CenterCrop first is that we could keep the granularity of the image as well as zoom in on the part of the image will likely give us the most information about the presence of pneumonia (e.g., chest and lungs). This way, we prevent our model from analyzing pixels from, for example, the shoulders or arms regions, and focus on the chest and lungs. Then, we used Resize on the resulting images in order to have homogeneous image sizes in our training data."
   ]
  }
 ],
 "metadata": {
  "kernelspec": {
   "display_name": "Python 3.10.8 64-bit",
   "language": "python",
   "name": "python3"
  },
  "language_info": {
   "codemirror_mode": {
    "name": "ipython",
    "version": 3
   },
   "file_extension": ".py",
   "mimetype": "text/x-python",
   "name": "python",
   "nbconvert_exporter": "python",
   "pygments_lexer": "ipython3",
   "version": "3.8.10"
  },
  "orig_nbformat": 4,
  "vscode": {
   "interpreter": {
    "hash": "aee8b7b246df8f9039afb4144a1f6fd8d2ca17a180786b69acc140d282b71a49"
   }
  }
 },
 "nbformat": 4,
 "nbformat_minor": 2
}
