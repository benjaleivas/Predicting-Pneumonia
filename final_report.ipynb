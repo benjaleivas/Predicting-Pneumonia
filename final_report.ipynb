{
 "cells": [
  {
   "attachments": {},
   "cell_type": "markdown",
   "metadata": {},
   "source": [
    "# Predicting pneumonia from X-ray image: Final Report\n",
    "\n",
    "**Team:** Claire Boyd, Jack Gibson, Benjamin Leiva, Raul Castellanos\n",
    "\n",
    "**Date:** May 22, 2023"
   ]
  },
  {
   "attachments": {},
   "cell_type": "markdown",
   "metadata": {},
   "source": [
    "next steps:\n",
    "\n",
    "transformation options -- benja\n",
    "    base (compacting image)\n",
    "    edges ()\n",
    "    color ()\n",
    "    both ()\n",
    "\n",
    "model options -- benja\n",
    "    NN\n",
    "    logistic regression\n",
    "\n",
    "- accuracy graphs - claire\n",
    "    - all 5 models on one chart etc\n",
    "\n",
    "- out of the box model - Jack (lit review justifying a choice of that)\n",
    "    - LeNet\n",
    "    - ResNet\n",
    "\n",
    "increase validation dataset - raul\n",
    "- make 80/10/10 split\n",
    "\n",
    "- lit review write up - claire/raul"
   ]
  },
  {
   "cell_type": "markdown",
   "metadata": {},
   "source": [
    "## Part 1"
   ]
  },
  {
   "attachments": {},
   "cell_type": "markdown",
   "metadata": {},
   "source": [
    "### Our model design\n",
    "\n",
    "- data\n",
    "- transformations\n",
    "    - image size\n",
    "    - edges\n",
    "    - grayscale\n",
    "    - center crop\n",
    "    - rotation (?)\n",
    "    - others (?)\n",
    "\n",
    "- model choice\n",
    "    - NN layers\n",
    "    - logistic regression (?)\n",
    "    - activation functions used\n",
    "- model hyperparameters \n",
    "    - epochs\n",
    "    - learning rate\n",
    "    - regularization rate\n",
    "    - loss function\n",
    "- accuracy rates\n",
    "    - recall  * most important\n",
    "    - precision\n",
    "    - f1-score"
   ]
  },
  {
   "attachments": {},
   "cell_type": "markdown",
   "metadata": {},
   "source": [
    "### Assessing classifier accuracy\n",
    "\n",
    "- our model output\n",
    "- graph with losses/accuracy, etc of our final model\n",
    "- interpretation"
   ]
  },
  {
   "attachments": {},
   "cell_type": "markdown",
   "metadata": {},
   "source": [
    "### Analysis of hyperparameter tuning\n",
    "\n",
    "- how our hyperparameters impacted our final model design\n",
    "    epochs\n",
    "    learning rate\n",
    "    regularization rate"
   ]
  },
  {
   "attachments": {},
   "cell_type": "markdown",
   "metadata": {},
   "source": [
    "## Part 2"
   ]
  },
  {
   "attachments": {},
   "cell_type": "markdown",
   "metadata": {},
   "source": [
    "### Current research\n",
    "\n",
    "- short lit review on what model designs have been used effectively to predict certain illnesses with x-ray imaging including (for each paper):\n",
    "    - objective of the predictive model\n",
    "    - core design choices (model choice, accuracy score type, activation functions used)\n",
    "    - accuracy score\n",
    "    - what we drew from the study (it led us to use this metric, etc)\n",
    "\n",
    "\n",
    "Elaborates what other CV ML algorithms could be used (e.g. object detection, semantic segmentation, etc)\n",
    "\n"
   ]
  },
  {
   "attachments": {},
   "cell_type": "markdown",
   "metadata": {},
   "source": [
    "### Comparison to other models (optional)\n",
    "\n",
    "- choose 1-2 models from lit review to recreate and compare against"
   ]
  },
  {
   "attachments": {},
   "cell_type": "markdown",
   "metadata": {},
   "source": [
    "### Generalizability \n",
    "\n",
    "Elaborates on whether this model could be applied in the clinical setting and discuss limitations"
   ]
  },
  {
   "attachments": {},
   "cell_type": "markdown",
   "metadata": {},
   "source": [
    "### Advantages and Limitations to using ML for X-Ray Images\n",
    "\n",
    "PROS\n",
    "Clear explanation of what predictive algorithms in diagnostic imaging means for: \n",
    "- Medical practice\n",
    "- Research\n",
    "- Policy \n",
    "\n",
    "CONS\n",
    "Elaborate on the benefits and challenges of working with black-and-white images such as X-ray"
   ]
  },
  {
   "attachments": {},
   "cell_type": "markdown",
   "metadata": {},
   "source": [
    "#### References\n",
    "\n",
    "*for lit review*\n",
    "\n",
    "Title: Can Artificial Intelligence Improve the Management of Pneumonia\n",
    "\n",
    "Link: https://www.ncbi.nlm.nih.gov/pmc/articles/PMC7019351/pdf/jcm-09-00248.pdf \n",
    "\n",
    "Notes: Great table on page 4 that outlines current approaches, good overview of current literature\n",
    "\n",
    "Title: Convolutional Neural Networks for Radiologic Images: A Radiologist’s Guide\n",
    "\n",
    "Link: https://pubs.rsna.org/doi/full/10.1148/radiol.2018180547\n",
    "\n",
    "Notes: great lit review overview that gives a good sense of how CNN is being used with imaging largely\n",
    "    - helpful for generalizability section and advantages/limitations to using ML for x-ray images\n",
    "\n",
    "*other custom models to use*\n",
    "\n",
    "Title: An artificial intelligence deep learning platform achieves high diagnostic accuracy for Covid-19 pneumonia by reading chest X-ray images\n",
    "\n",
    "Link: https://www.sciencedirect.com/science/article/pii/S2589004222003017 \n",
    "\n",
    "Notes: \n",
    "    \"A major type of sample variation was related to image collection, reflected by image darkness, contrast, size, orientation, (Figure 1A) etc. In addition, some images contained unexpected nonhuman structures such as image labeling, pen marks, pictures of medical treatment devices, (Figure 1B) etc. We realized that we need to build our AI models capable of identifying and excluding those non-pneumonia variations when reading chest X-ray images. It is equally important that our AI models should have abilities to distinguish Covid-19 pneumonia from non-Covid-19 pneumonia caused by viruses or bacteria.\"\n",
    "    - look at their ways to normalize images\n",
    "    The architecture of the CNN used in this study comprised multiple layers including convolution, ReLU, and pooling\n",
    "    For their pneumonia/healthy classifier, they had 99.23% accuracy\n",
    "\n",
    "    * I emailed them asking for their code to get a better sense of their approach!\n",
    "\n",
    "Title: Medical X-ray ⚕️ Image Classification using Convolutional Neural Network\n",
    "\n",
    "Link: https://towardsdatascience.com/medical-x-ray-%EF%B8%8F-image-classification-using-convolutional-neural-network-9a6d33b1c2a\n",
    "\n",
    "Notes: \n",
    "        rescale —Each digital image is created by a pixel with a value between 0 and 255. 0 in black, 255 in white. So rescale the scales array of the original image pixel values to be between [0,1] which makes the images contribute more equally to the overall loss. Otherwise, higher pixel range image results in greater loss and a lower learning rate should be used, lower pixel range image would require a higher learning rate.\n",
    "        shear_range — The shape of the image is the transformation of the shear. It fixes one axis and stretches the image at a certain angle known as the angle of the shear.\n",
    "        zoom_range — The image is enlarged by a zoom of less than 1.0. The image is more than 1.0 zoomed out of the picture.\n",
    "        horizontal_flip —Some images are flipped horizontally at random\n",
    "        vertical_flip — Some images are flipped vertically at random\n",
    "        roataion_range — Randomly, the image is rotated by some degree in the range 0 to 180.\n",
    "        width_shift_range — Shifts the image horizontally.\n",
    "        height_shift_range — Shifts the image vertically.\n",
    "        brightness_range — brightness of 0.0 corresponds to absolutely no brightness, and 1.0 corresponds to maximum brightness\n",
    "        fill_mode — Fills the missing value of the image to the nearest value or to the wrapped value or to the reflecting value.\n",
    "\n",
    "        accuracy rate of 91%\n",
    "\n",
    "\n",
    "*off-the-shelf models to use*\n",
    "\n"
   ]
  }
 ],
 "metadata": {
  "kernelspec": {
   "display_name": "Python 3.9.13 ('base')",
   "language": "python",
   "name": "python3"
  },
  "language_info": {
   "name": "python",
   "version": "3.9.13"
  },
  "orig_nbformat": 4,
  "vscode": {
   "interpreter": {
    "hash": "9e24dd9cc808ab50800f409e27684ef1d7d2c09bc61702024ae72f277d93666d"
   }
  }
 },
 "nbformat": 4,
 "nbformat_minor": 2
}
