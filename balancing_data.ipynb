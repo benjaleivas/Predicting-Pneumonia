{
 "cells": [
  {
   "attachments": {},
   "cell_type": "markdown",
   "metadata": {},
   "source": [
    "## Initial stage\n",
    "\n",
    "In this section we'll see the original state of the datasets. As we see the current folders are not balanced. Ideaally we would like the training - testing - validated be baalancced in 80 -10 -10. "
   ]
  },
  {
   "cell_type": "code",
   "execution_count": 1,
   "metadata": {},
   "outputs": [],
   "source": [
    "import os\n",
    "import random\n",
    "from sklearn.model_selection import train_test_split\n",
    "import shutil"
   ]
  },
  {
   "cell_type": "code",
   "execution_count": 2,
   "metadata": {},
   "outputs": [],
   "source": [
    "def count_images(data_dir=\"data\", subdirs=[\"test\", \"train\", \"val\"], classes=[\"NORMAL\", \"PNEUMONIA\"]):\n",
    "    \"\"\"\n",
    "    Counts the number of images in each subdirectory and class of data_dir.\n",
    "    \"\"\"\n",
    "    for subdir in subdirs:\n",
    "        print(f\"\\nDirectory: {subdir}\")\n",
    "        for cls in classes:\n",
    "            class_dir = os.path.join(data_dir, subdir, cls)\n",
    "            if not os.path.exists(class_dir):\n",
    "                print(f\"Directory {class_dir} not found\")\n",
    "                continue\n",
    "            num_imgs = len(os.listdir(class_dir))\n",
    "            print(f\"\\tClass: {cls} -- Number of images: {num_imgs}\")\n",
    "\n",
    "    print(\"Image counting complete.\")\n"
   ]
  },
  {
   "cell_type": "code",
   "execution_count": 4,
   "metadata": {},
   "outputs": [
    {
     "name": "stdout",
     "output_type": "stream",
     "text": [
      "\n",
      "Directory: test\n",
      "\tClass: NORMAL -- Number of images: 234\n",
      "\tClass: PNEUMONIA -- Number of images: 390\n",
      "\n",
      "Directory: train\n",
      "\tClass: NORMAL -- Number of images: 1341\n",
      "\tClass: PNEUMONIA -- Number of images: 3875\n",
      "\n",
      "Directory: val\n",
      "\tClass: NORMAL -- Number of images: 8\n",
      "\tClass: PNEUMONIA -- Number of images: 8\n",
      "Image counting complete.\n"
     ]
    }
   ],
   "source": [
    "count_images()"
   ]
  },
  {
   "attachments": {},
   "cell_type": "markdown",
   "metadata": {},
   "source": [
    "## Creating one folder with all informatio \n",
    "\n",
    "I will create one new folder with all images "
   ]
  },
  {
   "cell_type": "code",
   "execution_count": 1,
   "metadata": {},
   "outputs": [],
   "source": [
    "def copy_images_to_data2(data_dir=\"data\", data2_dir=\"data2\"):\n",
    "    \"\"\"\n",
    "    This function copies all images from the NORMAL and PNEUMONIA \n",
    "    subdirectories in the test, train, and val\n",
    "    subdirectories of data_dir to data2_dir.\n",
    "    \"\"\"\n",
    "    # Create data2 directory if it doesn't exist\n",
    "    if not os.path.exists(data2_dir):\n",
    "        os.mkdir(data2_dir)\n",
    "\n",
    "    # Loop through the subdirectories and classes and copy the images to data2\n",
    "    subdirs = [\"test\", \"train\", \"val\"]\n",
    "    classes = [\"NORMAL\", \"PNEUMONIA\"]\n",
    "\n",
    "    for subdir in subdirs:\n",
    "        for cls in classes:\n",
    "            class_dir = os.path.join(data_dir, subdir, cls)\n",
    "            images = os.listdir(class_dir)\n",
    "            for img in images:\n",
    "                src_path = os.path.join(class_dir, img)\n",
    "                dst_path = os.path.join(data2_dir, img)\n",
    "                shutil.copy(src_path, dst_path)\n",
    "\n",
    "    print(\"All images have been copied to data2 directory.\")"
   ]
  },
  {
   "cell_type": "code",
   "execution_count": 2,
   "metadata": {},
   "outputs": [],
   "source": [
    "def shuffle_and_split_data(data_dir=\"data2\"):\n",
    "    \"\"\"\n",
    "    Randomly shuffles images in data_dir, splits them into train/val/test sets, and organizes them\n",
    "    into new directories accordingly.\n",
    "    \"\"\"\n",
    "    # Create new train/test/val directories\n",
    "    for subdir in [\"train\", \"test\", \"val\"]:\n",
    "        os.makedirs(os.path.join(data_dir, subdir, \"NORMAL\"))\n",
    "        os.makedirs(os.path.join(data_dir, subdir, \"PNEUMONIA\"))\n",
    "\n",
    "    # Shuffle all images in data_dir\n",
    "    all_imgs = []\n",
    "    for cls in [\"NORMAL\", \"PNEUMONIA\"]:\n",
    "        class_dir = os.path.join(data_dir, cls)\n",
    "        for img in os.listdir(class_dir):\n",
    "            all_imgs.append(os.path.join(class_dir, img))\n",
    "\n",
    "    random.shuffle(all_imgs)\n",
    "\n",
    "    # Split images into train/val/test sets\n",
    "    train, test_val = train_test_split(all_imgs, test_size=0.2, random_state=42)\n",
    "    test, val = train_test_split(test_val, test_size=0.5, random_state=42)\n",
    "\n",
    "    # Move images to their appropriate directories\n",
    "    for img in train:\n",
    "        if \"NORMAL\" in img:\n",
    "            shutil.copy(img, os.path.join(data_dir, \"train\", \"NORMAL\", os.path.basename(img)))\n",
    "        else:\n",
    "            shutil.copy(img, os.path.join(data_dir, \"train\", \"PNEUMONIA\", os.path.basename(img)))\n",
    "\n",
    "    for img in test:\n",
    "        if \"NORMAL\" in img:\n",
    "            shutil.copy(img, os.path.join(data_dir, \"test\", \"NORMAL\", os.path.basename(img)))\n",
    "        else:\n",
    "            shutil.copy(img, os.path.join(data_dir, \"test\", \"PNEUMONIA\", os.path.basename(img)))\n",
    "\n",
    "    for img in val:\n",
    "        if \"NORMAL\" in img:\n",
    "            shutil.copy(img, os.path.join(data_dir, \"val\", \"NORMAL\", os.path.basename(img)))\n",
    "        else:\n",
    "            shutil.copy(img, os.path.join(data_dir, \"val\", \"PNEUMONIA\", os.path.basename(img)))\n",
    "\n",
    "    print(\"Data shuffling and splitting complete.\")\n"
   ]
  },
  {
   "cell_type": "code",
   "execution_count": 3,
   "metadata": {},
   "outputs": [
    {
     "ename": "FileNotFoundError",
     "evalue": "[Errno 2] No such file or directory: 'data2/NORMAL'",
     "output_type": "error",
     "traceback": [
      "\u001b[0;31m---------------------------------------------------------------------------\u001b[0m",
      "\u001b[0;31mFileNotFoundError\u001b[0m                         Traceback (most recent call last)",
      "Cell \u001b[0;32mIn[3], line 1\u001b[0m\n\u001b[0;32m----> 1\u001b[0m shuffle_and_split_data()\n",
      "Cell \u001b[0;32mIn[2], line 15\u001b[0m, in \u001b[0;36mshuffle_and_split_data\u001b[0;34m(data_dir)\u001b[0m\n\u001b[1;32m     13\u001b[0m \u001b[39mfor\u001b[39;00m \u001b[39mcls\u001b[39m \u001b[39min\u001b[39;00m [\u001b[39m\"\u001b[39m\u001b[39mNORMAL\u001b[39m\u001b[39m\"\u001b[39m, \u001b[39m\"\u001b[39m\u001b[39mPNEUMONIA\u001b[39m\u001b[39m\"\u001b[39m]:\n\u001b[1;32m     14\u001b[0m     class_dir \u001b[39m=\u001b[39m os\u001b[39m.\u001b[39mpath\u001b[39m.\u001b[39mjoin(data_dir, \u001b[39mcls\u001b[39m)\n\u001b[0;32m---> 15\u001b[0m     \u001b[39mfor\u001b[39;00m img \u001b[39min\u001b[39;00m os\u001b[39m.\u001b[39;49mlistdir(class_dir):\n\u001b[1;32m     16\u001b[0m         all_imgs\u001b[39m.\u001b[39mappend(os\u001b[39m.\u001b[39mpath\u001b[39m.\u001b[39mjoin(class_dir, img))\n\u001b[1;32m     18\u001b[0m random\u001b[39m.\u001b[39mshuffle(all_imgs)\n",
      "\u001b[0;31mFileNotFoundError\u001b[0m: [Errno 2] No such file or directory: 'data2/NORMAL'"
     ]
    }
   ],
   "source": [
    "shuffle_and_split_data()"
   ]
  },
  {
   "cell_type": "code",
   "execution_count": null,
   "metadata": {},
   "outputs": [],
   "source": []
  }
 ],
 "metadata": {
  "kernelspec": {
   "display_name": "Python 3",
   "language": "python",
   "name": "python3"
  },
  "language_info": {
   "codemirror_mode": {
    "name": "ipython",
    "version": 3
   },
   "file_extension": ".py",
   "mimetype": "text/x-python",
   "name": "python",
   "nbconvert_exporter": "python",
   "pygments_lexer": "ipython3",
   "version": "3.8.10"
  },
  "orig_nbformat": 4
 },
 "nbformat": 4,
 "nbformat_minor": 2
}
