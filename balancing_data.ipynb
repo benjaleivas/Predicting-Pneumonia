{
 "cells": [
  {
   "attachments": {},
   "cell_type": "markdown",
   "metadata": {},
   "source": [
    "## Initial stage\n",
    "\n",
    "In this section we'll see the original state of the datasets. "
   ]
  },
  {
   "cell_type": "code",
   "execution_count": 1,
   "metadata": {},
   "outputs": [
    {
     "name": "stdout",
     "output_type": "stream",
     "text": [
      "\n",
      "Directory: test\n",
      "\tClass: NORMAL -- Number of images: 234\n",
      "\tClass: PNEUMONIA -- Number of images: 390\n",
      "\n",
      "Directory: train\n",
      "\tClass: NORMAL -- Number of images: 1341\n",
      "\tClass: PNEUMONIA -- Number of images: 3875\n",
      "\n",
      "Directory: val\n",
      "\tClass: NORMAL -- Number of images: 8\n",
      "\tClass: PNEUMONIA -- Number of images: 8\n"
     ]
    }
   ],
   "source": [
    "import os\n",
    "\n",
    "data_dir = \"data\"\n",
    "subdirs = [\"test\", \"train\", \"val\"]\n",
    "classes = [\"NORMAL\", \"PNEUMONIA\"]\n",
    "\n",
    "for subdir in subdirs:\n",
    "    print(f\"\\nDirectory: {subdir}\")\n",
    "    for cls in classes:\n",
    "        class_dir = os.path.join(data_dir, subdir, cls)\n",
    "        if not os.path.exists(class_dir):\n",
    "            print(f\"Directory {class_dir} not found\")\n",
    "            continue\n",
    "        num_imgs = len(os.listdir(class_dir))\n",
    "        print(f\"\\tClass: {cls} -- Number of images: {num_imgs}\")\n",
    "\n"
   ]
  }
 ],
 "metadata": {
  "kernelspec": {
   "display_name": "Python 3",
   "language": "python",
   "name": "python3"
  },
  "language_info": {
   "codemirror_mode": {
    "name": "ipython",
    "version": 3
   },
   "file_extension": ".py",
   "mimetype": "text/x-python",
   "name": "python",
   "nbconvert_exporter": "python",
   "pygments_lexer": "ipython3",
   "version": "3.8.10"
  },
  "orig_nbformat": 4
 },
 "nbformat": 4,
 "nbformat_minor": 2
}
