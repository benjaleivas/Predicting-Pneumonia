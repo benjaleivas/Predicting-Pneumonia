{
 "cells": [
  {
   "attachments": {},
   "cell_type": "markdown",
   "metadata": {},
   "source": [
    "## Initial stage\n",
    "\n",
    "In this section we'll see the original state of the datasets. As we see the current folders are not balanced. Ideaally we would like the training - testing - validated be baalancced in 80 -10 -10. "
   ]
  },
  {
   "cell_type": "code",
   "execution_count": 1,
   "metadata": {},
   "outputs": [],
   "source": [
    "import os\n",
    "import random\n",
    "from sklearn.model_selection import train_test_split\n",
    "import shutil"
   ]
  },
  {
   "cell_type": "code",
   "execution_count": 2,
   "metadata": {},
   "outputs": [],
   "source": [
    "def count_images(data_dir=\"data\", subdirs=[\"test\", \"train\", \"val\"], classes=[\"NORMAL\", \"PNEUMONIA\"]):\n",
    "    \"\"\"\n",
    "    Counts the number of images in each subdirectory and class of data_dir.\n",
    "    \"\"\"\n",
    "    for subdir in subdirs:\n",
    "        print(f\"\\nDirectory: {subdir}\")\n",
    "        for cls in classes:\n",
    "            class_dir = os.path.join(data_dir, subdir, cls)\n",
    "            if not os.path.exists(class_dir):\n",
    "                print(f\"Directory {class_dir} not found\")\n",
    "                continue\n",
    "            num_imgs = len(os.listdir(class_dir))\n",
    "            print(f\"\\tClass: {cls} -- Number of images: {num_imgs}\")\n",
    "\n",
    "    print(\"Image counting complete.\")\n"
   ]
  },
  {
   "cell_type": "code",
   "execution_count": 4,
   "metadata": {},
   "outputs": [
    {
     "name": "stdout",
     "output_type": "stream",
     "text": [
      "\n",
      "Directory: test\n",
      "\tClass: NORMAL -- Number of images: 234\n",
      "\tClass: PNEUMONIA -- Number of images: 390\n",
      "\n",
      "Directory: train\n",
      "\tClass: NORMAL -- Number of images: 1341\n",
      "\tClass: PNEUMONIA -- Number of images: 3875\n",
      "\n",
      "Directory: val\n",
      "\tClass: NORMAL -- Number of images: 8\n",
      "\tClass: PNEUMONIA -- Number of images: 8\n",
      "Image counting complete.\n"
     ]
    }
   ],
   "source": [
    "count_images()"
   ]
  },
  {
   "attachments": {},
   "cell_type": "markdown",
   "metadata": {},
   "source": [
    "## Creating one folder with all informatio \n",
    "\n",
    "I will create one new folder with all images "
   ]
  },
  {
   "cell_type": "code",
   "execution_count": 1,
   "metadata": {},
   "outputs": [],
   "source": [
    "def copy_images_to_data2(data_dir=\"data\", data2_dir=\"data2\"):\n",
    "    \"\"\"\n",
    "    This function copies all images from the NORMAL and PNEUMONIA \n",
    "    subdirectories in the test, train, and val\n",
    "    subdirectories of data_dir to data2_dir.\n",
    "    \"\"\"\n",
    "    # Create data2 directory if it doesn't exist\n",
    "    if not os.path.exists(data2_dir):\n",
    "        os.mkdir(data2_dir)\n",
    "\n",
    "    # Loop through the subdirectories and classes and copy the images to data2\n",
    "    subdirs = [\"test\", \"train\", \"val\"]\n",
    "    classes = [\"NORMAL\", \"PNEUMONIA\"]\n",
    "\n",
    "    for subdir in subdirs:\n",
    "        for cls in classes:\n",
    "            class_dir = os.path.join(data_dir, subdir, cls)\n",
    "            images = os.listdir(class_dir)\n",
    "            for img in images:\n",
    "                src_path = os.path.join(class_dir, img)\n",
    "                dst_path = os.path.join(data2_dir, img)\n",
    "                shutil.copy(src_path, dst_path)\n",
    "\n",
    "    print(\"All images have been copied to data2 directory.\")"
   ]
  },
  {
   "attachments": {},
   "cell_type": "markdown",
   "metadata": {},
   "source": [
    "Now I assign data either to normal or pneumonia. With this code we discover that the normal patients are label with either \"IM-0\" or NORM, while the pneumonia patients are labeled \"person\". "
   ]
  },
  {
   "cell_type": "code",
   "execution_count": 5,
   "metadata": {},
   "outputs": [
    {
     "name": "stdout",
     "output_type": "stream",
     "text": [
      "pers: 4273\n",
      "IM-0: 666\n",
      "NORM: 917\n"
     ]
    }
   ],
   "source": [
    "import os \n",
    "import re\n",
    "\n",
    "data2_dir = \"data2\"\n",
    "\n",
    "# Retrieve all image filenames in data2 folder\n",
    "image_filenames = os.listdir(data2_dir)\n",
    "\n",
    "# Create a dictionary to store the count of different first 4 letters\n",
    "name_counts = {}\n",
    "\n",
    "# Iterate over each image filename and extract the first 4 letters\n",
    "for filename in image_filenames:\n",
    "    name = filename[:4]\n",
    "    if name not in name_counts:\n",
    "        name_counts[name] = 0\n",
    "    name_counts[name] += 1\n",
    "\n",
    "# Print the count of different first 4 letters\n",
    "for name, count in name_counts.items():\n",
    "    print(f\"{name}: {count}\")"
   ]
  }
 ],
 "metadata": {
  "kernelspec": {
   "display_name": "Python 3",
   "language": "python",
   "name": "python3"
  },
  "language_info": {
   "codemirror_mode": {
    "name": "ipython",
    "version": 3
   },
   "file_extension": ".py",
   "mimetype": "text/x-python",
   "name": "python",
   "nbconvert_exporter": "python",
   "pygments_lexer": "ipython3",
   "version": "3.8.10"
  },
  "orig_nbformat": 4
 },
 "nbformat": 4,
 "nbformat_minor": 2
}
