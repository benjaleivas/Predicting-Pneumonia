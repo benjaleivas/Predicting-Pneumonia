{
 "cells": [
  {
   "cell_type": "markdown",
   "metadata": {},
   "source": [
    "**Model Evaluation**\n",
    "\n",
    "This notebook provides code to replicate how we tested and evaulated different versions of our neural newtwork. \n",
    "\n",
    "Models were created using each of the four transformations: base, color agumenation only, edge augmentation only, and both color and edge augmentation. Each model was trained for 15 epochs with training and validation metrics calculated per epoch. Graphs that depict how loss, accuracy and recall change of the course of training were created. Finally, the model was tested with the test data, with these performance metrics also displayed within the notebook. "
   ]
  },
  {
   "cell_type": "code",
   "execution_count": 1,
   "metadata": {},
   "outputs": [],
   "source": [
    "# Model Eval\n",
    "import torch\n",
    "import torch.nn as nn \n",
    "import torch.optim as optim\n",
    "import torch.nn.functional as F \n",
    "import torchvision.transforms as T\n",
    "from torchvision.io import read_image\n",
    "from torch.utils.data import Dataset, DataLoader\n",
    "from process.model import CustomNeuralNetwork   #internal\n",
    "from process.data_module import CustomImageDataset\n",
    "from process.transforms import base_transforms, color_transforms, both_transforms, edges_transforms\n",
    "from process.load import collect_image_files"
   ]
  },
  {
   "cell_type": "code",
   "execution_count": 2,
   "metadata": {},
   "outputs": [],
   "source": [
    "# Load original x-rays and apply transformations\n",
    "training_data = CustomImageDataset(\"data2/paths/train.csv\", \"data2/train/\", base_transforms)\n",
    "val_data = CustomImageDataset(\"data2/paths/val.csv\", \"data2/val/\", base_transforms)\n",
    "test_data = CustomImageDataset(\"data2/paths/test.csv\", \"data2/test/\", base_transforms)\n",
    "\n",
    "# Load groups/batches of x-rays for analysis\n",
    "train_dataloader = DataLoader(training_data, batch_size=64, shuffle=True)\n",
    "val_dataloader = DataLoader(val_data, batch_size=64, shuffle=True)\n",
    "test_dataloader = DataLoader(test_data, batch_size=64, shuffle=True)"
   ]
  },
  {
   "cell_type": "code",
   "execution_count": 3,
   "metadata": {},
   "outputs": [
    {
     "name": "stdout",
     "output_type": "stream",
     "text": [
      "Epoch: 0\n",
      "Epoch: 1\n",
      "Epoch: 2\n",
      "Epoch: 3\n",
      "Epoch: 4\n",
      "Epoch: 5\n",
      "Epoch: 6\n",
      "Epoch: 7\n",
      "Epoch: 8\n",
      "Epoch: 9\n",
      "Epoch: 10\n",
      "Epoch: 11\n",
      "Epoch: 12\n",
      "Epoch: 13\n",
      "Epoch: 14\n"
     ]
    }
   ],
   "source": [
    "# Create model, set eta, train and test\n",
    "eta =  0.0001\n",
    "model = CustomNeuralNetwork(eta)\n",
    "train, val = model.train_model(train_dataloader, val_dataloader, epochs=15, epoch_step=1)\n",
    "test_loss, test_acc, test_recall = model.evaluate_model(test_dataloader)"
   ]
  },
  {
   "cell_type": "code",
   "execution_count": null,
   "metadata": {},
   "outputs": [],
   "source": [
    "#Display test results \n",
    "test_loss, test_acc, test_recall"
   ]
  },
  {
   "cell_type": "code",
   "execution_count": null,
   "metadata": {},
   "outputs": [],
   "source": [
    "# Create graphs\n",
    "tloss, tacc, trecall = train\n",
    "vloss, vacc, vrecall = val\n",
    "\n",
    "model.create_graph(15, tloss, vloss, \"Loss (training)\", \"Loss (validation)\", \"Loss - Base Case (eta=0.0001)\")\n",
    "model.create_graph(15, tacc, vacc, \"Accuracy (training)\", \"Accuracy (validation)\", \"Accuracy - Base Case (eta=0.0001)\")\n",
    "model.create_graph(15, trecall, vrecall, \"Recall (training)\", \"Recall (validation)\", \"Recall - Base Case (eta=0.0001)\")"
   ]
  }
 ],
 "metadata": {
  "kernelspec": {
   "display_name": "Python 3.9.13 ('base')",
   "language": "python",
   "name": "python3"
  },
  "language_info": {
   "codemirror_mode": {
    "name": "ipython",
    "version": 3
   },
   "file_extension": ".py",
   "mimetype": "text/x-python",
   "name": "python",
   "nbconvert_exporter": "python",
   "pygments_lexer": "ipython3",
   "version": "3.9.13"
  },
  "orig_nbformat": 4,
  "vscode": {
   "interpreter": {
    "hash": "9e24dd9cc808ab50800f409e27684ef1d7d2c09bc61702024ae72f277d93666d"
   }
  }
 },
 "nbformat": 4,
 "nbformat_minor": 2
}
