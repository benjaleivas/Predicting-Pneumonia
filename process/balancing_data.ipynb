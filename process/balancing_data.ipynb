{
 "cells": [
  {
   "attachments": {},
   "cell_type": "markdown",
   "metadata": {},
   "source": [
    "## Initial stage\n",
    "\n",
    "In this section we'll see the original state of the datasets. As we see the current folders are not balanced. Ideaally we would like the training - testing - validated be baalancced in 80 -10 -10. "
   ]
  },
  {
   "cell_type": "code",
   "execution_count": 27,
   "metadata": {},
   "outputs": [],
   "source": [
    "import os\n",
    "import random\n",
    "import re\n",
    "from sklearn.model_selection import train_test_split\n",
    "import shutil\n",
    "import shutil"
   ]
  },
  {
   "cell_type": "code",
   "execution_count": 28,
   "metadata": {},
   "outputs": [],
   "source": [
    "def count_images(data_dir=\"data\", subdirs=[\"test\", \"train\", \"val\"], classes=[\"NORMAL\", \"PNEUMONIA\"]):\n",
    "    \"\"\"\n",
    "    Counts the number of images in each subdirectory and class of data_dir.\n",
    "    \"\"\"\n",
    "    for subdir in subdirs:\n",
    "        print(f\"\\nDirectory: {subdir}\")\n",
    "        for cls in classes:\n",
    "            class_dir = os.path.join(data_dir, subdir, cls)\n",
    "            if not os.path.exists(class_dir):\n",
    "                print(f\"Directory {class_dir} not found\")\n",
    "                continue\n",
    "            num_imgs = len(os.listdir(class_dir))\n",
    "            print(f\"\\tClass: {cls} -- Number of images: {num_imgs}\")\n",
    "\n",
    "    print(\"Image counting complete.\")\n"
   ]
  },
  {
   "cell_type": "code",
   "execution_count": 29,
   "metadata": {},
   "outputs": [
    {
     "name": "stdout",
     "output_type": "stream",
     "text": [
      "\n",
      "Directory: test\n",
      "\tClass: NORMAL -- Number of images: 234\n",
      "\tClass: PNEUMONIA -- Number of images: 390\n",
      "\n",
      "Directory: train\n",
      "\tClass: NORMAL -- Number of images: 1341\n",
      "\tClass: PNEUMONIA -- Number of images: 3875\n",
      "\n",
      "Directory: val\n",
      "\tClass: NORMAL -- Number of images: 8\n",
      "\tClass: PNEUMONIA -- Number of images: 8\n",
      "Image counting complete.\n"
     ]
    }
   ],
   "source": [
    "count_images()"
   ]
  },
  {
   "attachments": {},
   "cell_type": "markdown",
   "metadata": {},
   "source": [
    "## Creating one folder with all informatio \n",
    "\n",
    "I will create one new folder with all images "
   ]
  },
  {
   "cell_type": "code",
   "execution_count": 30,
   "metadata": {},
   "outputs": [],
   "source": [
    "def copy_images_to_data2(data_dir=\"data\", data2_dir=\"data2\"):\n",
    "    \"\"\"\n",
    "    This function copies all images from the NORMAL and PNEUMONIA \n",
    "    subdirectories in the test, train, and val\n",
    "    subdirectories of data_dir to data2_dir.\n",
    "    \"\"\"\n",
    "    # Create data2 directory if it doesn't exist\n",
    "    if not os.path.exists(data2_dir):\n",
    "        os.mkdir(data2_dir)\n",
    "\n",
    "    # Loop through the subdirectories and classes and copy the images to data2\n",
    "    subdirs = [\"test\", \"train\", \"val\"]\n",
    "    classes = [\"NORMAL\", \"PNEUMONIA\"]\n",
    "\n",
    "    for subdir in subdirs:\n",
    "        for cls in classes:\n",
    "            class_dir = os.path.join(data_dir, subdir, cls)\n",
    "            images = os.listdir(class_dir)\n",
    "            for img in images:\n",
    "                src_path = os.path.join(class_dir, img)\n",
    "                dst_path = os.path.join(data2_dir, img)\n",
    "                shutil.copy(src_path, dst_path)\n",
    "\n",
    "    print(\"All images have been copied to data2 directory.\")"
   ]
  },
  {
   "cell_type": "code",
   "execution_count": 31,
   "metadata": {},
   "outputs": [
    {
     "name": "stdout",
     "output_type": "stream",
     "text": [
      "All images have been copied to data2 directory.\n"
     ]
    }
   ],
   "source": [
    "copy_images_to_data2(data_dir=\"data\", data2_dir=\"data2\")"
   ]
  },
  {
   "attachments": {},
   "cell_type": "markdown",
   "metadata": {},
   "source": [
    "Now I assign data either to normal or pneumonia. With this code we discover that the normal patients are label with either \"IM-0\" or NORM, while the pneumonia patients are labeled \"person\". "
   ]
  },
  {
   "cell_type": "code",
   "execution_count": 32,
   "metadata": {},
   "outputs": [
    {
     "name": "stdout",
     "output_type": "stream",
     "text": [
      "NORM: 917\n",
      "pers: 4273\n",
      "IM-0: 666\n"
     ]
    }
   ],
   "source": [
    "data2_dir = \"data2\"\n",
    "\n",
    "# Retrieve all image filenames in data2 folder\n",
    "image_filenames = os.listdir(data2_dir)\n",
    "\n",
    "# Create a dictionary to store the count of different first 4 letters\n",
    "name_counts = {}\n",
    "\n",
    "# Iterate over each image filename and extract the first 4 letters\n",
    "for filename in image_filenames:\n",
    "    name = filename[:4]\n",
    "    if name not in name_counts:\n",
    "        name_counts[name] = 0\n",
    "    name_counts[name] += 1\n",
    "\n",
    "# Print the count of different first 4 letters\n",
    "for name, count in name_counts.items():\n",
    "    print(f\"{name}: {count}\")"
   ]
  },
  {
   "cell_type": "code",
   "execution_count": 33,
   "metadata": {},
   "outputs": [],
   "source": [
    "data2_dir = \"./data2\"\n",
    "normal_dir = os.path.join(data2_dir, \"NORMAL\")\n",
    "pneumonia_dir = os.path.join(data2_dir, \"PNEUMONIA\")\n",
    "\n",
    "# Create the NORMAL and PNEUMONIA folders if they don't exist\n",
    "os.makedirs(normal_dir, exist_ok=True)\n",
    "os.makedirs(pneumonia_dir, exist_ok=True)\n",
    "\n",
    "# Retrieve all image filenames in data2 folder\n",
    "image_filenames = os.listdir(data2_dir)\n",
    "\n",
    "# Iterate over each image filename and move the images to the appropriate folders\n",
    "for filename in image_filenames:\n",
    "    src_path = os.path.join(data2_dir, filename)\n",
    "    if filename.startswith(\"IM-0\") or filename.startswith(\"NORM\"):\n",
    "        dst_path = os.path.join(normal_dir, filename)\n",
    "        if not os.path.isdir(src_path) and src_path != dst_path:\n",
    "            shutil.move(src_path, dst_path)\n",
    "    elif filename.startswith(\"person\"):\n",
    "        dst_path = os.path.join(pneumonia_dir, filename)\n",
    "        if not os.path.isdir(src_path) and src_path != dst_path:\n",
    "            shutil.move(src_path, dst_path)\n"
   ]
  },
  {
   "cell_type": "code",
   "execution_count": 39,
   "metadata": {},
   "outputs": [],
   "source": [
    "from sklearn.model_selection import train_test_split\n",
    "import random\n",
    "import os\n",
    "import shutil\n",
    "\n",
    "def split_images(data_dir, classes, train_size, test_size, val_size):\n",
    "    # Shuffle images within each class\n",
    "    for cls in classes:\n",
    "        class_dir = os.path.join(data_dir, cls)\n",
    "        image_filenames = os.listdir(class_dir)\n",
    "        random.shuffle(image_filenames)\n",
    "        for filename in image_filenames:\n",
    "            src_path = os.path.join(class_dir, filename)\n",
    "            dst_path = os.path.join(class_dir, filename)\n",
    "            shutil.move(src_path, dst_path)\n",
    "\n",
    "    # Divide images into train, test, and val folders\n",
    "    for cls in classes:\n",
    "        class_dir = os.path.join(data_dir, cls)\n",
    "        image_filenames = os.listdir(class_dir)\n",
    "\n",
    "        # Split image filenames into train, test, and val sets\n",
    "        train_filenames, testval_filenames = train_test_split(image_filenames, train_size=train_size, test_size=(test_size + val_size), random_state=42)\n",
    "        test_filenames, val_filenames = train_test_split(testval_filenames, train_size=(test_size / (test_size + val_size)), test_size=(val_size / (test_size + val_size)), random_state=42)\n",
    "\n",
    "        # Create train, test, and val folders if they don't exist\n",
    "        train_dir = os.path.join(data_dir, \"train\", cls)\n",
    "        test_dir = os.path.join(data_dir, \"test\", cls)\n",
    "        val_dir = os.path.join(data_dir, \"val\", cls)\n",
    "        os.makedirs(train_dir, exist_ok=True)\n",
    "        os.makedirs(test_dir, exist_ok=True)\n",
    "        os.makedirs(val_dir, exist_ok=True)\n",
    "\n",
    "        # Move images to respective train, test, and val folders\n",
    "        for filename in train_filenames:\n",
    "            src_path = os.path.join(class_dir, filename)\n",
    "            dst_path = os.path.join(train_dir, filename)\n",
    "            shutil.move(src_path, dst_path)\n",
    "        for filename in test_filenames:\n",
    "            src_path = os.path.join(class_dir, filename)\n",
    "            dst_path = os.path.join(test_dir, filename)\n",
    "            shutil.move(src_path, dst_path)\n",
    "        for filename in val_filenames:\n",
    "            src_path = os.path.join(class_dir, filename)\n",
    "            dst_path = os.path.join(val_dir, filename)\n",
    "            shutil.move(src_path, dst_path)\n"
   ]
  },
  {
   "cell_type": "code",
   "execution_count": 40,
   "metadata": {},
   "outputs": [],
   "source": [
    "data_dir = \"data2\"\n",
    "classes = [\"NORMAL\", \"PNEUMONIA\"]\n",
    "train_size = 0.8\n",
    "test_size = 0.1\n",
    "val_size = 0.1\n",
    "\n",
    "split_images(data_dir, classes, train_size, test_size, val_size)"
   ]
  },
  {
   "cell_type": "code",
   "execution_count": 52,
   "metadata": {},
   "outputs": [],
   "source": [
    "def reorganize_folders(data_dir):\n",
    "    folders = ['test', 'train', 'val']\n",
    "    subfolders = ['NORMAL', 'PNEUMONIA']\n",
    "\n",
    "    for folder in folders:\n",
    "        folder_dir = os.path.join(data_dir, folder)\n",
    "        os.makedirs(folder_dir, exist_ok=True)\n",
    "        \n",
    "        for subfolder in subfolders:\n",
    "            subfolder_dir = os.path.join(folder_dir, subfolder)\n",
    "            os.makedirs(subfolder_dir, exist_ok=True)\n",
    "\n",
    "            source_dir = os.path.join(data_dir, subfolder, folder)\n",
    "            image_files = os.listdir(source_dir)\n",
    "\n",
    "            for image_file in image_files:\n",
    "                source_path = os.path.join(source_dir, image_file)\n",
    "                destination_path = os.path.join(subfolder_dir, image_file)\n",
    "                shutil.move(source_path, destination_path)\n"
   ]
  },
  {
   "cell_type": "code",
   "execution_count": 53,
   "metadata": {},
   "outputs": [],
   "source": [
    "data_dir = \"data2\"\n",
    "reorganize_folders(data_dir)"
   ]
  }
 ],
 "metadata": {
  "kernelspec": {
   "display_name": "Python 3.9.13 ('base')",
   "language": "python",
   "name": "python3"
  },
  "language_info": {
   "codemirror_mode": {
    "name": "ipython",
    "version": 3
   },
   "file_extension": ".py",
   "mimetype": "text/x-python",
   "name": "python",
   "nbconvert_exporter": "python",
   "pygments_lexer": "ipython3",
   "version": "3.9.13"
  },
  "orig_nbformat": 4,
  "vscode": {
   "interpreter": {
    "hash": "9e24dd9cc808ab50800f409e27684ef1d7d2c09bc61702024ae72f277d93666d"
   }
  }
 },
 "nbformat": 4,
 "nbformat_minor": 2
}
