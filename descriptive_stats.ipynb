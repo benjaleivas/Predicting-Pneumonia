{
 "cells": [
  {
   "attachments": {},
   "cell_type": "markdown",
   "metadata": {},
   "source": [
    "## Descriptive Statistics\n",
    "\n",
    "This notebook provides code to replicate the descriptive statistics tables and figures from the report."
   ]
  },
  {
   "cell_type": "code",
   "execution_count": 15,
   "metadata": {},
   "outputs": [],
   "source": [
    "# Import modules\n",
    "import pandas as pd\n",
    "import matplotlib.pyplot as plt"
   ]
  },
  {
   "cell_type": "code",
   "execution_count": 16,
   "metadata": {},
   "outputs": [],
   "source": [
    "# Load csv files\n",
    "train = pd.read_csv('data2/paths/train.csv', usecols=['path', 'channel', 'height', 'width', 'label'])\n",
    "test  = pd.read_csv('data2/paths/test.csv', usecols=['path', 'channel', 'height', 'width', 'label'])\n",
    "val   = pd.read_csv('data2/paths/val.csv', usecols=['path', 'channel', 'height', 'width', 'label'])\n",
    "\n",
    "# Create 'type' variable\n",
    "train['type'] = 'train'\n",
    "test['type'] =  'test'\n",
    "val['type'] = 'val'\n",
    "\n",
    "# Create 'size' variable\n",
    "train['size'] = train['height'] * train['width']\n",
    "test['size'] = test['height'] * test['width']\n",
    "val['size'] = val['height'] * val['width']\n",
    "\n",
    "# Combine datasets\n",
    "data = pd.concat([train, test, val], ignore_index=True, axis=0)\n",
    "data = data[['type', 'path', 'channel', 'height', 'width', 'size', 'label']]"
   ]
  },
  {
   "cell_type": "code",
   "execution_count": 17,
   "metadata": {},
   "outputs": [
    {
     "data": {
      "text/html": [
       "<div>\n",
       "<style scoped>\n",
       "    .dataframe tbody tr th:only-of-type {\n",
       "        vertical-align: middle;\n",
       "    }\n",
       "\n",
       "    .dataframe tbody tr th {\n",
       "        vertical-align: top;\n",
       "    }\n",
       "\n",
       "    .dataframe thead th {\n",
       "        text-align: right;\n",
       "    }\n",
       "</style>\n",
       "<table border=\"1\" class=\"dataframe\">\n",
       "  <thead>\n",
       "    <tr style=\"text-align: right;\">\n",
       "      <th></th>\n",
       "      <th>count</th>\n",
       "      <th>mean</th>\n",
       "      <th>std</th>\n",
       "      <th>min</th>\n",
       "      <th>25%</th>\n",
       "      <th>50%</th>\n",
       "      <th>75%</th>\n",
       "      <th>max</th>\n",
       "    </tr>\n",
       "  </thead>\n",
       "  <tbody>\n",
       "    <tr>\n",
       "      <th>channel</th>\n",
       "      <td>5856</td>\n",
       "      <td>1</td>\n",
       "      <td>0</td>\n",
       "      <td>1</td>\n",
       "      <td>1</td>\n",
       "      <td>1</td>\n",
       "      <td>1</td>\n",
       "      <td>3</td>\n",
       "    </tr>\n",
       "    <tr>\n",
       "      <th>height</th>\n",
       "      <td>5856</td>\n",
       "      <td>971</td>\n",
       "      <td>383</td>\n",
       "      <td>127</td>\n",
       "      <td>688</td>\n",
       "      <td>888</td>\n",
       "      <td>1187</td>\n",
       "      <td>2713</td>\n",
       "    </tr>\n",
       "    <tr>\n",
       "      <th>width</th>\n",
       "      <td>5856</td>\n",
       "      <td>1328</td>\n",
       "      <td>364</td>\n",
       "      <td>384</td>\n",
       "      <td>1056</td>\n",
       "      <td>1281</td>\n",
       "      <td>1560</td>\n",
       "      <td>2916</td>\n",
       "    </tr>\n",
       "    <tr>\n",
       "      <th>size</th>\n",
       "      <td>5856</td>\n",
       "      <td>1418909</td>\n",
       "      <td>970443</td>\n",
       "      <td>48768</td>\n",
       "      <td>727888</td>\n",
       "      <td>1136928</td>\n",
       "      <td>1852074</td>\n",
       "      <td>7532028</td>\n",
       "    </tr>\n",
       "  </tbody>\n",
       "</table>\n",
       "</div>"
      ],
      "text/plain": [
       "         count    mean    std   min    25%     50%     75%     max\n",
       "channel   5856       1      0     1      1       1       1       3\n",
       "height    5856     971    383   127    688     888    1187    2713\n",
       "width     5856    1328    364   384   1056    1281    1560    2916\n",
       "size      5856 1418909 970443 48768 727888 1136928 1852074 7532028"
      ]
     },
     "execution_count": 17,
     "metadata": {},
     "output_type": "execute_result"
    }
   ],
   "source": [
    "# Table with descriptive statistics\n",
    "pd.set_option('display.float_format', lambda x: '%.0f' % x)\n",
    "data[[\"channel\", \"height\",\"width\", \"size\"]].describe(percentiles=[.25, 0.5, 0.75]).T"
   ]
  },
  {
   "cell_type": "code",
   "execution_count": 18,
   "metadata": {},
   "outputs": [
    {
     "data": {
      "image/png": "[encoded data removed]",
      "text/plain": [
       "<Figure size 432x288 with 1 Axes>"
      ]
     },
     "metadata": {
      "needs_background": "light"
     },
     "output_type": "display_data"
    }
   ],
   "source": [
    "# Distribution of heights and widths\n",
    "height_mean = data['height'].mean()\n",
    "width_mean = data['width'].mean()\n",
    "height_sd = data['height'].std()\n",
    "width_sd = data['width'].std()\n",
    "\n",
    "height = data.loc[:, 'height']\n",
    "width = data.loc[:, 'width']\n",
    "\n",
    "plt.hist(height, bins=100, color='lightblue', alpha=0.5, label='Height')\n",
    "plt.hist(width, bins=100, color='lightgreen', alpha=0.5, label='Width')\n",
    "plt.axvline(height_mean, color='blue', linestyle='dashed', linewidth=1)\n",
    "plt.text(height_mean-400, plt.ylim()[1]*0.9, 'height mean', color='blue', fontsize=12, ha='center')\n",
    "plt.axvline(width_mean, color='green', linestyle='dashed', linewidth=1)\n",
    "plt.text(width_mean+400, plt.ylim()[1]*0.85, 'width mean', color='green', fontsize=12, ha='center')\n",
    "plt.xlabel('Measurement')\n",
    "plt.ylabel('Frequency')\n",
    "plt.legend()\n",
    "plt.show()"
   ]
  },
  {
   "cell_type": "code",
   "execution_count": 19,
   "metadata": {},
   "outputs": [
    {
     "data": {
      "text/html": [
       "<div>\n",
       "<style scoped>\n",
       "    .dataframe tbody tr th:only-of-type {\n",
       "        vertical-align: middle;\n",
       "    }\n",
       "\n",
       "    .dataframe tbody tr th {\n",
       "        vertical-align: top;\n",
       "    }\n",
       "\n",
       "    .dataframe thead th {\n",
       "        text-align: right;\n",
       "    }\n",
       "</style>\n",
       "<table border=\"1\" class=\"dataframe\">\n",
       "  <thead>\n",
       "    <tr style=\"text-align: right;\">\n",
       "      <th></th>\n",
       "      <th>label</th>\n",
       "      <th>count</th>\n",
       "    </tr>\n",
       "  </thead>\n",
       "  <tbody>\n",
       "    <tr>\n",
       "      <th>0</th>\n",
       "      <td>NORMAL</td>\n",
       "      <td>1583</td>\n",
       "    </tr>\n",
       "    <tr>\n",
       "      <th>1</th>\n",
       "      <td>PNEUMONIA</td>\n",
       "      <td>4273</td>\n",
       "    </tr>\n",
       "  </tbody>\n",
       "</table>\n",
       "</div>"
      ],
      "text/plain": [
       "       label  count\n",
       "0     NORMAL   1583\n",
       "1  PNEUMONIA   4273"
      ]
     },
     "execution_count": 19,
     "metadata": {},
     "output_type": "execute_result"
    }
   ],
   "source": [
    "# Table with label count\n",
    "data.groupby([\"label\"])[\"type\"].count().reset_index(name=\"count\")"
   ]
  }
 ],
 "metadata": {
  "kernelspec": {
   "display_name": "Python 3",
   "language": "python",
   "name": "python3"
  },
  "language_info": {
   "codemirror_mode": {
    "name": "ipython",
    "version": 3
   },
   "file_extension": ".py",
   "mimetype": "text/x-python",
   "name": "python",
   "nbconvert_exporter": "python",
   "pygments_lexer": "ipython3",
   "version": "3.8.10"
  },
  "orig_nbformat": 4
 },
 "nbformat": 4,
 "nbformat_minor": 2
}
