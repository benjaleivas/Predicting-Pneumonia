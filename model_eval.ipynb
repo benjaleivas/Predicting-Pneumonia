{
 "cells": [
  {
   "cell_type": "code",
   "execution_count": 1,
   "metadata": {},
   "outputs": [],
   "source": [
    "# Model Eval\n",
    "import torch\n",
    "import torch.nn as nn \n",
    "import torch.optim as optim\n",
    "import torch.nn.functional as F \n",
    "import torchvision.transforms as T\n",
    "from torchvision.io import read_image\n",
    "from torch.utils.data import Dataset, DataLoader\n",
    "from process.model import CustomNeuralNetwork   #internal\n",
    "from process.data_module import CustomImageDataset, transforms  #internal\n",
    "from process.load import collect_image_files"
   ]
  },
  {
   "cell_type": "code",
   "execution_count": 3,
   "metadata": {},
   "outputs": [],
   "source": [
    "# Re-create image path csv files\n",
    "collect_image_files('test')\n",
    "collect_image_files('train')\n",
    "collect_image_files('val')"
   ]
  },
  {
   "cell_type": "code",
   "execution_count": null,
   "metadata": {},
   "outputs": [],
   "source": [
    "# Load original x-rays and apply transformations\n",
    "training_data = CustomImageDataset(\"data2/output/train.csv\", \"data2/train/\", transforms)\n",
    "val_data = CustomImageDataset(\"data2/output/val.csv\", \"data2/val/\", transforms)\n",
    "test_data = CustomImageDataset(\"data2/output/test.csv\", \"data2/test/\", transforms)\n",
    "\n",
    "# Load groups/batches of x-rays for analysis\n",
    "train_dataloader = DataLoader(training_data, batch_size=64, shuffle=True)\n",
    "val_dataloader = DataLoader(val_data, batch_size=64, shuffle=True)\n",
    "test_dataloader = DataLoader(test_data, batch_size=64, shuffle=True)"
   ]
  },
  {
   "cell_type": "code",
   "execution_count": null,
   "metadata": {},
   "outputs": [],
   "source": [
    "# Build and train model\n",
    "model = CustomNeuralNetwork()\n",
    "\n",
    "train_list, val_list = model.train_model(train_dataloader, val_dataloader, epochs=15, epoch_step=1)"
   ]
  },
  {
   "cell_type": "code",
   "execution_count": null,
   "metadata": {},
   "outputs": [],
   "source": [
    "# values for table\n",
    "train_losses, train_accuracies, train_recalls = train_list\n",
    "val_losses, val_accuracies, val_recalls = val_list\n",
    "\n",
    "print(\"last val accuracy: \", val_accuracies[-1])\n",
    "print(\"last val recall: \", float(val_recalls[-1]))\n",
    "print(\"last val loss: \", val_losses[-1])\n",
    "\n",
    "# Confusion matrix\n",
    "model.confusion_matrix"
   ]
  },
  {
   "cell_type": "code",
   "execution_count": null,
   "metadata": {},
   "outputs": [],
   "source": [
    "model.create_graph(15, 1, train_losses, val_losses, \"losses\", \"losses: base + color + edges\")"
   ]
  },
  {
   "cell_type": "code",
   "execution_count": null,
   "metadata": {},
   "outputs": [],
   "source": [
    "model.create_graph(15, 1, train_accuracies, val_accuracies, \"accuracies\", \"accuracies: base + color + edges\")"
   ]
  },
  {
   "cell_type": "code",
   "execution_count": null,
   "metadata": {},
   "outputs": [],
   "source": [
    "model.create_graph(15, 1, train_recalls, val_recalls, \"recalls\", \"recalls: base + color + edges\")"
   ]
  }
 ],
 "metadata": {
  "kernelspec": {
   "display_name": "Python 3.9.13 ('base')",
   "language": "python",
   "name": "python3"
  },
  "language_info": {
   "codemirror_mode": {
    "name": "ipython",
    "version": 3
   },
   "file_extension": ".py",
   "mimetype": "text/x-python",
   "name": "python",
   "nbconvert_exporter": "python",
   "pygments_lexer": "ipython3",
   "version": "3.10.8"
  },
  "orig_nbformat": 4,
  "vscode": {
   "interpreter": {
    "hash": "9e24dd9cc808ab50800f409e27684ef1d7d2c09bc61702024ae72f277d93666d"
   }
  }
 },
 "nbformat": 4,
 "nbformat_minor": 2
}
